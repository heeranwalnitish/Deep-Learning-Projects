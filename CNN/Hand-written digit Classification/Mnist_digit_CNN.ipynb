{
 "cells": [
  {
   "cell_type": "markdown",
   "id": "e286bb0e",
   "metadata": {},
   "source": [
    "##### Creating a model based on the MNIST Dataset of Handwritten Digits"
   ]
  },
  {
   "cell_type": "code",
   "execution_count": 31,
   "id": "98bf6c59",
   "metadata": {},
   "outputs": [],
   "source": [
    "# Importing all the packages\n",
    "import tensorflow\n",
    "import  numpy as np\n",
    "import matplotlib.pyplot as plt\n",
    "import random"
   ]
  },
  {
   "cell_type": "code",
   "execution_count": 2,
   "id": "2f3a8fb5",
   "metadata": {},
   "outputs": [
    {
     "name": "stdout",
     "output_type": "stream",
     "text": [
      "(60000,)\n"
     ]
    }
   ],
   "source": [
    "# loading yhe dataset\n",
    "from keras.datasets import mnist\n",
    "\n",
    "(x_train,y_train), (x_test,y_test) = mnist.load_data()\n",
    "print(y_train.shape)"
   ]
  },
  {
   "cell_type": "code",
   "execution_count": 3,
   "id": "7751a660",
   "metadata": {},
   "outputs": [
    {
     "name": "stdout",
     "output_type": "stream",
     "text": [
      "Initial shape or dimension of x_train (60000, 28, 28)\n",
      "Number of labels in our training data: 60000\n",
      "Number of samples in our test data: 10000\n",
      "Number of labels in our test data:10000\n",
      "\n",
      "Dimensions of x_train: (28, 28)\n",
      "Labels in x_train: (60000,)\n",
      "\n",
      "Dimensions of x_test:(28, 28)\n",
      "Labels in y_test: (10000,)\n"
     ]
    }
   ],
   "source": [
    "# Printing the number of samples in x_train, x_test, y_train, y_test\n",
    "\n",
    "print(\"Initial shape or dimension of x_train\", x_train.shape)\n",
    "\n",
    "\n",
    "print(\"Number of labels in our training data:\", len(y_train))\n",
    "print(\"Number of samples in our test data: \" + str(len(x_test)))\n",
    "print(\"Number of labels in our test data:\"+ str(len(y_test)))\n",
    "print()\n",
    "print(\"Dimensions of x_train: \" +str(x_train[0].shape))\n",
    "print(\"Labels in x_train: \"+str(y_train.shape))\n",
    "print()\n",
    "print(\"Dimensions of x_test:\"+ str(x_test[0].shape))\n",
    "print(\"Labels in y_test: \"+str(y_test.shape))"
   ]
  },
  {
   "cell_type": "code",
   "execution_count": 5,
   "id": "e10acd41",
   "metadata": {},
   "outputs": [
    {
     "data": {
      "image/png": "[encoded data removed]",
      "text/plain": [
       "<Figure size 432x288 with 6 Axes>"
      ]
     },
     "metadata": {
      "needs_background": "light"
     },
     "output_type": "display_data"
    }
   ],
   "source": [
    "# Plot 6 image,\n",
    "# we set the color map to grey since our image dataset is grayscale\n",
    "\n",
    "plt.subplot(331)\n",
    "random_num = np.random.randint(0, len(x_train))\n",
    "plt.imshow(x_train[random_num], cmap = plt.get_cmap('gray'))\n",
    " \n",
    "plt.subplot(332)\n",
    "random_num = np.random.randint(0, len(x_train))\n",
    "plt.imshow(x_train[random_num], cmap = plt.get_cmap('gray'))\n",
    "\n",
    "\n",
    "plt.subplot(333)\n",
    "random_num = np.random.randint(0, len(x_train))\n",
    "plt.imshow(x_train[random_num], cmap = plt.get_cmap('gray'))\n",
    "\n",
    "plt.subplot(334)\n",
    "random_num = np.random.randint(0, len(x_train))\n",
    "plt.imshow(x_train[random_num], cmap = plt.get_cmap('gray'))\n",
    "\n",
    "plt.subplot(335)\n",
    "random_num = np.random.randint(0, len(x_train))\n",
    "plt.imshow(x_train[random_num], cmap= plt.get_cmap('gray'))\n",
    "\n",
    "plt.subplot(336)\n",
    "random_nums = np.random.randint(0, len(x_train))\n",
    "plt.imshow(x_train[random_num], cmap = plt.get_cmap('gray'))\n",
    "\n",
    "plt.show()"
   ]
  },
  {
   "cell_type": "code",
   "execution_count": 6,
   "id": "3601cf62",
   "metadata": {},
   "outputs": [],
   "source": [
    "# lets store the number of rows and columns\n",
    "img_rows = x_train[0].shape[0]\n",
    "img_cols = x_train[1].shape[1]"
   ]
  },
  {
   "cell_type": "code",
   "execution_count": 7,
   "id": "a7ed5047",
   "metadata": {},
   "outputs": [],
   "source": [
    "# Getting our data in the right shape neededd for Keras\n",
    "# We need to add a 4th dimenssion to our data thereby changing our \n",
    "# original image shape of  (60000, 28,28) to (60000, 28, 28, 1)\n",
    "\n",
    "x_train = x_train.reshape(x_train.shape[0], img_rows, img_cols, 1)\n",
    "x_test = x_test.reshape(x_test.shape[0], img_rows, img_cols, 1)"
   ]
  },
  {
   "cell_type": "code",
   "execution_count": 8,
   "id": "32355a30",
   "metadata": {},
   "outputs": [],
   "source": [
    "# store the shape of a single image\n",
    "input_shape = (img_rows, img_cols, 1)\n",
    "\n",
    "# change our image type to float32 data type\n",
    "x_train = x_train.astype('float32')\n",
    "x_test = x_test.astype('float32')"
   ]
  },
  {
   "cell_type": "code",
   "execution_count": 9,
   "id": "f336a676",
   "metadata": {},
   "outputs": [],
   "source": [
    "# Normalize our data by changing the range from (0 to 255) to (0 to 1)\n",
    "x_train/=255\n",
    "x_test/=255"
   ]
  },
  {
   "cell_type": "code",
   "execution_count": 10,
   "id": "eba4cdd0",
   "metadata": {},
   "outputs": [
    {
     "name": "stdout",
     "output_type": "stream",
     "text": [
      "x_train shape: (60000, 28, 28, 1)\n",
      "60000 train samples\n",
      "10000 test samples\n"
     ]
    }
   ],
   "source": [
    "print(\"x_train shape:\", x_train.shape)\n",
    "print(x_train.shape[0], \"train samples\")\n",
    "print(x_test.shape[0], \"test samples\")"
   ]
  },
  {
   "cell_type": "code",
   "execution_count": null,
   "id": "a584bddb",
   "metadata": {},
   "outputs": [],
   "source": []
  },
  {
   "cell_type": "code",
   "execution_count": 11,
   "id": "963459d7",
   "metadata": {},
   "outputs": [],
   "source": [
    "from keras.utils import np_utils"
   ]
  },
  {
   "cell_type": "code",
   "execution_count": 12,
   "id": "660e9ccf",
   "metadata": {},
   "outputs": [],
   "source": [
    "# Now we one hot encode outputs\n",
    "y_train = np_utils.to_categorical(y_train)\n",
    "y_test = np_utils.to_categorical(y_test)"
   ]
  },
  {
   "cell_type": "code",
   "execution_count": 13,
   "id": "00f4cdf2",
   "metadata": {},
   "outputs": [
    {
     "name": "stdout",
     "output_type": "stream",
     "text": [
      "Number of Classes:10\n"
     ]
    }
   ],
   "source": [
    "# Lets count the number of columns in our hot encoded matrix\n",
    "print(\"Number of Classes:\" + str(y_test.shape[1]))"
   ]
  },
  {
   "cell_type": "code",
   "execution_count": 14,
   "id": "81a1791f",
   "metadata": {},
   "outputs": [],
   "source": [
    "num_classes = y_test.shape[1]\n",
    "num_pixels = x_train.shape[1] * x_train.shape[2]"
   ]
  },
  {
   "cell_type": "code",
   "execution_count": 15,
   "id": "232cf667",
   "metadata": {},
   "outputs": [
    {
     "data": {
      "text/plain": [
       "array([0., 0., 0., 0., 0., 1., 0., 0., 0., 0.], dtype=float32)"
      ]
     },
     "execution_count": 15,
     "metadata": {},
     "output_type": "execute_result"
    }
   ],
   "source": [
    "# Lets see the first value of our target variable\n",
    "y_train[0]\n"
   ]
  },
  {
   "cell_type": "code",
   "execution_count": 16,
   "id": "09139916",
   "metadata": {},
   "outputs": [
    {
     "data": {
      "text/plain": [
       "10"
      ]
     },
     "execution_count": 16,
     "metadata": {},
     "output_type": "execute_result"
    }
   ],
   "source": [
    "# Lets see the number of classes \n",
    "num_classes"
   ]
  },
  {
   "cell_type": "code",
   "execution_count": 17,
   "id": "3c487add",
   "metadata": {},
   "outputs": [
    {
     "data": {
      "text/plain": [
       "784"
      ]
     },
     "execution_count": 17,
     "metadata": {},
     "output_type": "execute_result"
    }
   ],
   "source": [
    "#Lets see the no of pixcels\n",
    "num_pixels"
   ]
  },
  {
   "cell_type": "markdown",
   "id": "48e2d987",
   "metadata": {},
   "source": [
    "## Model Building"
   ]
  },
  {
   "cell_type": "markdown",
   "id": "9bab5d99",
   "metadata": {},
   "source": [
    " We're constructing a simple but efffective CNN that uses 32 filters of size 3x3. We've addeda 2nd CONV layer of 64 filters of the same size 3x3. We then downsample our data to 2x2, here we apply a droupout where p is set to 0.25. We then flatten our Max Pool output that is connected to a Dense/FC layer that has an output size of 128. Here we apply a dropout where P is set to 0.5. Thus 128 output is connected to another FC/Dense layer that outputs to the 10 categorical units."
   ]
  },
  {
   "cell_type": "code",
   "execution_count": 18,
   "id": "a15eb58c",
   "metadata": {},
   "outputs": [],
   "source": [
    "from keras.models import Sequential\n",
    "from keras.layers import Conv2D, MaxPooling2D, Flatten, Dense, Dropout\n",
    "from tensorflow.keras.optimizers import SGD"
   ]
  },
  {
   "cell_type": "code",
   "execution_count": 19,
   "id": "5b94f05a",
   "metadata": {},
   "outputs": [],
   "source": [
    "model = Sequential([\n",
    "    Conv2D(32, kernel_size = (3,3), activation ='relu', input_shape = input_shape),\n",
    "    Conv2D(64, (3,3), activation = 'relu'),\n",
    "    MaxPooling2D(pool_size =(2,2)),\n",
    "    Dropout(0.25),\n",
    "    \n",
    "    Flatten(),\n",
    "    \n",
    "    Dense(128, activation = 'relu'),\n",
    "    Dropout(0.5),\n",
    "    \n",
    "    Dense(num_classes, activation = 'softmax')\n",
    "])"
   ]
  },
  {
   "cell_type": "code",
   "execution_count": 20,
   "id": "ae1f4b10",
   "metadata": {},
   "outputs": [
    {
     "name": "stdout",
     "output_type": "stream",
     "text": [
      "Model: \"sequential\"\n",
      "_________________________________________________________________\n",
      " Layer (type)                Output Shape              Param #   \n",
      "=================================================================\n",
      " conv2d (Conv2D)             (None, 26, 26, 32)        320       \n",
      "                                                                 \n",
      " conv2d_1 (Conv2D)           (None, 24, 24, 64)        18496     \n",
      "                                                                 \n",
      " max_pooling2d (MaxPooling2D  (None, 12, 12, 64)       0         \n",
      " )                                                               \n",
      "                                                                 \n",
      " dropout (Dropout)           (None, 12, 12, 64)        0         \n",
      "                                                                 \n",
      " flatten (Flatten)           (None, 9216)              0         \n",
      "                                                                 \n",
      " dense (Dense)               (None, 128)               1179776   \n",
      "                                                                 \n",
      " dropout_1 (Dropout)         (None, 128)               0         \n",
      "                                                                 \n",
      " dense_1 (Dense)             (None, 10)                1290      \n",
      "                                                                 \n",
      "=================================================================\n",
      "Total params: 1,199,882\n",
      "Trainable params: 1,199,882\n",
      "Non-trainable params: 0\n",
      "_________________________________________________________________\n"
     ]
    }
   ],
   "source": [
    "model.summary()"
   ]
  },
  {
   "cell_type": "code",
   "execution_count": 21,
   "id": "366f9d50",
   "metadata": {},
   "outputs": [],
   "source": [
    "model.compile(loss = 'categorical_crossentropy',\n",
    "             optimizer = SGD(0.01),\n",
    "             metrics = ['accuracy'])"
   ]
  },
  {
   "cell_type": "code",
   "execution_count": 22,
   "id": "106b2c11",
   "metadata": {},
   "outputs": [
    {
     "name": "stdout",
     "output_type": "stream",
     "text": [
      "Epoch 1/10\n",
      "1875/1875 - 118s - loss: 0.6034 - accuracy: 0.8100 - val_loss: 0.1978 - val_accuracy: 0.9420 - 118s/epoch - 63ms/step\n",
      "Epoch 2/10\n",
      "1875/1875 - 117s - loss: 0.2915 - accuracy: 0.9131 - val_loss: 0.1395 - val_accuracy: 0.9584 - 117s/epoch - 63ms/step\n",
      "Epoch 3/10\n",
      "1875/1875 - 117s - loss: 0.2186 - accuracy: 0.9347 - val_loss: 0.1012 - val_accuracy: 0.9698 - 117s/epoch - 62ms/step\n",
      "Epoch 4/10\n",
      "1875/1875 - 116s - loss: 0.1688 - accuracy: 0.9509 - val_loss: 0.0831 - val_accuracy: 0.9723 - 116s/epoch - 62ms/step\n",
      "Epoch 5/10\n",
      "1875/1875 - 118s - loss: 0.1398 - accuracy: 0.9583 - val_loss: 0.0667 - val_accuracy: 0.9791 - 118s/epoch - 63ms/step\n",
      "Epoch 6/10\n",
      "1875/1875 - 119s - loss: 0.1199 - accuracy: 0.9646 - val_loss: 0.0577 - val_accuracy: 0.9805 - 119s/epoch - 64ms/step\n",
      "Epoch 7/10\n",
      "1875/1875 - 118s - loss: 0.1045 - accuracy: 0.9684 - val_loss: 0.0512 - val_accuracy: 0.9829 - 118s/epoch - 63ms/step\n",
      "Epoch 8/10\n",
      "1875/1875 - 106s - loss: 0.0949 - accuracy: 0.9714 - val_loss: 0.0471 - val_accuracy: 0.9838 - 106s/epoch - 56ms/step\n",
      "Epoch 9/10\n",
      "1875/1875 - 85s - loss: 0.0897 - accuracy: 0.9733 - val_loss: 0.0462 - val_accuracy: 0.9840 - 85s/epoch - 45ms/step\n",
      "Epoch 10/10\n",
      "1875/1875 - 84s - loss: 0.0825 - accuracy: 0.9754 - val_loss: 0.0416 - val_accuracy: 0.9859 - 84s/epoch - 45ms/step\n"
     ]
    }
   ],
   "source": [
    "batch_size = 32\n",
    "epochs = 10\n",
    "\n",
    "history = model.fit(x_train, y_train, batch_size = batch_size,\n",
    "         epochs = epochs, verbose = 2, validation_data = (x_test, y_test))"
   ]
  },
  {
   "cell_type": "code",
   "execution_count": 23,
   "id": "6ce2f485",
   "metadata": {},
   "outputs": [],
   "source": [
    "score = model.evaluate(x_test, y_test, verbose = 0)"
   ]
  },
  {
   "cell_type": "code",
   "execution_count": 24,
   "id": "f9f015ac",
   "metadata": {},
   "outputs": [
    {
     "data": {
      "text/plain": [
       "[0.04155542328953743, 0.9858999848365784]"
      ]
     },
     "execution_count": 24,
     "metadata": {},
     "output_type": "execute_result"
    }
   ],
   "source": [
    "score"
   ]
  },
  {
   "cell_type": "code",
   "execution_count": 25,
   "id": "53b35b94",
   "metadata": {},
   "outputs": [
    {
     "name": "stdout",
     "output_type": "stream",
     "text": [
      "Test Loss : 0.04155542328953743\n",
      "Test Accuracy : 0.9858999848365784\n"
     ]
    }
   ],
   "source": [
    "print(f\"Test Loss : {score[0]}\")\n",
    "print(f\"Test Accuracy : {score[1]}\")"
   ]
  },
  {
   "cell_type": "code",
   "execution_count": 27,
   "id": "09d24aea",
   "metadata": {},
   "outputs": [
    {
     "data": {
      "image/png": "[encoded data removed]",
      "text/plain": [
       "<Figure size 432x288 with 1 Axes>"
      ]
     },
     "metadata": {
      "needs_background": "light"
     },
     "output_type": "display_data"
    }
   ],
   "source": [
    "# Plotting the loss charts\n",
    "\n",
    "history_dict = history.history\n",
    "\n",
    "loss_values = history_dict['loss']\n",
    "val_loss_values = history_dict['val_loss']\n",
    "epochs = range(1, len(loss_values) +1)\n",
    "\n",
    "line1 = plt.plot(epochs, val_loss_values, label = 'Validation/Test Loss')\n",
    "line2 = plt.plot(epochs, loss_values, label = 'Training Loss')\n",
    "\n",
    "plt.setp(line1, linewidth = 2.0, marker = '+', markersize = 10.0)\n",
    "plt.setp(line2, linewidth = 2.0, marker = '4', markersize = 10.0)\n",
    "plt.xlabel('Epochs')\n",
    "plt.ylabel('Loss')\n",
    "plt.grid(True)\n",
    "plt.legend()\n",
    "plt.show()"
   ]
  },
  {
   "cell_type": "code",
   "execution_count": 54,
   "id": "5694111e",
   "metadata": {},
   "outputs": [
    {
     "data": {
      "image/png": "[encoded data removed]",
      "text/plain": [
       "<Figure size 432x288 with 1 Axes>"
      ]
     },
     "metadata": {
      "needs_background": "light"
     },
     "output_type": "display_data"
    },
    {
     "name": "stdout",
     "output_type": "stream",
     "text": [
      "The number is 1\n"
     ]
    }
   ],
   "source": [
    "idx = random.randint(0,len(y_test))\n",
    "plt.imshow(x_test[idx,:])\n",
    "plt.show()\n",
    "\n",
    "y_pred = model.predict(x_test[idx,:].reshape(1,28,28))\n",
    "max = np.argmax(y_pred )\n",
    "\n",
    "print(f\"The number is {max}\")"
   ]
  },
  {
   "cell_type": "code",
   "execution_count": null,
   "id": "58b43654",
   "metadata": {},
   "outputs": [],
   "source": []
  }
 ],
 "metadata": {
  "kernelspec": {
   "display_name": "Python 3 (ipykernel)",
   "language": "python",
   "name": "python3"
  },
  "language_info": {
   "codemirror_mode": {
    "name": "ipython",
    "version": 3
   },
   "file_extension": ".py",
   "mimetype": "text/x-python",
   "name": "python",
   "nbconvert_exporter": "python",
   "pygments_lexer": "ipython3",
   "version": "3.9.7"
  }
 },
 "nbformat": 4,
 "nbformat_minor": 5
}
